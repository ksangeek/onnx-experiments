{
 "cells": [
  {
   "cell_type": "markdown",
   "metadata": {},
   "source": [
    "<h1><center>Credit Card Example<br/>scikit-learn to ONNX</center></h1>"
   ]
  },
  {
   "cell_type": "markdown",
   "metadata": {},
   "source": [
    "### imports"
   ]
  },
  {
   "cell_type": "code",
   "execution_count": 1,
   "metadata": {},
   "outputs": [],
   "source": [
    "import numpy as np\n",
    "import pandas as pd\n",
    "import onnxruntime as rt\n",
    "import sklearn\n",
    "import skl2onnx\n",
    "import onnx\n",
    "\n",
    "from sklearn.model_selection import train_test_split\n",
    "from sklearn.preprocessing import MinMaxScaler, LabelEncoder, normalize\n",
    "from sklearn.metrics import accuracy_score"
   ]
  },
  {
   "cell_type": "code",
   "execution_count": 2,
   "metadata": {},
   "outputs": [
    {
     "name": "stdout",
     "output_type": "stream",
     "text": [
      "numpy       1.18.1\n",
      "sklearn     0.23.2\n",
      "onnxruntime 1.4.0\n",
      "onnx        1.7.0\n",
      "skl2onnx    1.7.0\n",
      "pandas      1.1.1\n",
      "\n"
     ]
    }
   ],
   "source": [
    "%load_ext watermark\n",
    "%watermark --iversions"
   ]
  },
  {
   "cell_type": "markdown",
   "metadata": {},
   "source": [
    "# Data Load"
   ]
  },
  {
   "cell_type": "code",
   "execution_count": 3,
   "metadata": {
    "scrolled": true
   },
   "outputs": [
    {
     "name": "stdout",
     "output_type": "stream",
     "text": [
      "There are 1000 observations in the customer history dataset.\n",
      "There are 19 variables in the dataset.\n"
     ]
    }
   ],
   "source": [
    "cust_df = pd.read_csv('cust_history_new_1K.csv')\n",
    "\n",
    "print(\"There are \" + str(len(cust_df)) + \" observations in the customer history dataset.\")\n",
    "print(\"There are \" + str(len(cust_df.columns)) + \" variables in the dataset.\")\n",
    "\n",
    "#cust_df.head()"
   ]
  },
  {
   "cell_type": "markdown",
   "metadata": {},
   "source": [
    "# Data Preparation"
   ]
  },
  {
   "cell_type": "markdown",
   "metadata": {},
   "source": [
    "## Split Dataframe into Features and Label"
   ]
  },
  {
   "cell_type": "code",
   "execution_count": 4,
   "metadata": {},
   "outputs": [
    {
     "name": "stdout",
     "output_type": "stream",
     "text": [
      "cust_df_X.shape=(1000, 18), cust_df_Y.shape=(1000, 1)\n"
     ]
    }
   ],
   "source": [
    "cust_df_Y = cust_df[['IS_DEFAULT']]\n",
    "cust_df_X = cust_df.drop(['IS_DEFAULT'],axis=1)\n",
    "\n",
    "print(f'cust_df_X.shape={cust_df_X.shape}, cust_df_Y.shape={cust_df_Y.shape}')\n"
   ]
  },
  {
   "cell_type": "markdown",
   "metadata": {},
   "source": [
    "## Transform Label"
   ]
  },
  {
   "cell_type": "code",
   "execution_count": 5,
   "metadata": {},
   "outputs": [],
   "source": [
    "le = LabelEncoder()\n",
    "cust_df_Y = le.fit_transform(cust_df_Y['IS_DEFAULT'])"
   ]
  },
  {
   "cell_type": "code",
   "execution_count": 6,
   "metadata": {},
   "outputs": [
    {
     "data": {
      "text/plain": [
       "numpy.ndarray"
      ]
     },
     "execution_count": 6,
     "metadata": {},
     "output_type": "execute_result"
    }
   ],
   "source": [
    "type(cust_df_Y)"
   ]
  },
  {
   "cell_type": "markdown",
   "metadata": {},
   "source": [
    "## Transform Features"
   ]
  },
  {
   "cell_type": "markdown",
   "metadata": {},
   "source": [
    "### One hot encoding for categorical Columns"
   ]
  },
  {
   "cell_type": "code",
   "execution_count": 7,
   "metadata": {},
   "outputs": [],
   "source": [
    "categoricalColumns = ['CREDIT_HISTORY', 'TRANSACTION_CATEGORY', 'ACCOUNT_TYPE', 'ACCOUNT_AGE',\n",
    "                      'STATE', 'IS_URBAN', 'IS_STATE_BORDER', 'HAS_CO_APPLICANT', 'HAS_GUARANTOR',\n",
    "                      'OWN_REAL_ESTATE', 'OTHER_INSTALMENT_PLAN',\n",
    "                      'OWN_RESIDENCE', 'RFM_SCORE', 'OWN_CAR', 'SHIP_INTERNATIONAL']\n",
    "cust_df_X = pd.get_dummies(cust_df_X, columns=categoricalColumns)\n",
    "\n",
    "#cust_df_X.head()"
   ]
  },
  {
   "cell_type": "markdown",
   "metadata": {},
   "source": [
    "## Normalize Features"
   ]
  },
  {
   "cell_type": "code",
   "execution_count": 8,
   "metadata": {},
   "outputs": [],
   "source": [
    "min_max_scaler = MinMaxScaler()\n",
    "features = min_max_scaler.fit_transform(cust_df_X)\n",
    "features = normalize(features, axis=1, norm='l1')\n",
    "\n",
    "cust_df_X = pd.DataFrame(features,columns=cust_df_X.columns)\n",
    "#cust_df_X.head()"
   ]
  },
  {
   "cell_type": "markdown",
   "metadata": {},
   "source": [
    "## Split Train and Test Dataset"
   ]
  },
  {
   "cell_type": "code",
   "execution_count": 9,
   "metadata": {},
   "outputs": [
    {
     "name": "stdout",
     "output_type": "stream",
     "text": [
      "X_train.shape=(700, 51) Y_train.shape=(700, 1)\n",
      "X_test.shape=(300, 51) Y_test.shape=(300, 1)\n"
     ]
    }
   ],
   "source": [
    "label    = cust_df_Y\n",
    "features  = cust_df_X.values\n",
    "\n",
    "label = np.reshape(label,(-1,1))\n",
    "X_train,X_test,y_train,y_test = \\\n",
    "       train_test_split(features, label, test_size=0.3, random_state=42, stratify=label)\n",
    "print(f'X_train.shape={X_train.shape} Y_train.shape={y_train.shape}')\n",
    "print(f'X_test.shape={X_test.shape} Y_test.shape={y_test.shape}')"
   ]
  },
  {
   "cell_type": "markdown",
   "metadata": {},
   "source": [
    "# sklearn Train"
   ]
  },
  {
   "cell_type": "code",
   "execution_count": 10,
   "metadata": {},
   "outputs": [],
   "source": [
    "# Import\n",
    "from sklearn.linear_model import LogisticRegression\n",
    "sklearn_lr = LogisticRegression()"
   ]
  },
  {
   "cell_type": "code",
   "execution_count": 11,
   "metadata": {},
   "outputs": [
    {
     "data": {
      "text/plain": [
       "LogisticRegression()"
      ]
     },
     "execution_count": 11,
     "metadata": {},
     "output_type": "execute_result"
    }
   ],
   "source": [
    "# TRAIN\n",
    "sklearn_lr.fit(X_train, y_train.ravel())"
   ]
  },
  {
   "cell_type": "code",
   "execution_count": 12,
   "metadata": {},
   "outputs": [
    {
     "data": {
      "text/plain": [
       "(1, 51)"
      ]
     },
     "execution_count": 12,
     "metadata": {},
     "output_type": "execute_result"
    }
   ],
   "source": [
    "sklearn_lr.coef_.shape"
   ]
  },
  {
   "cell_type": "code",
   "execution_count": 13,
   "metadata": {},
   "outputs": [
    {
     "data": {
      "text/plain": [
       "dtype('float64')"
      ]
     },
     "execution_count": 13,
     "metadata": {},
     "output_type": "execute_result"
    }
   ],
   "source": [
    "sklearn_lr.coef_.dtype"
   ]
  },
  {
   "cell_type": "code",
   "execution_count": 14,
   "metadata": {},
   "outputs": [
    {
     "data": {
      "text/plain": [
       "array([[ 0.77483405,  0.41529331,  0.00611661,  0.6085692 , -1.29612335,\n",
       "        -0.08430527,  0.11118008,  0.58089865,  0.29378692, -0.88450482,\n",
       "         0.09702741,  0.73011745,  0.16123889,  0.08285559, -0.56030214,\n",
       "         0.14239107, -0.27800247, -1.11633683, -0.30734996,  1.4795175 ,\n",
       "         0.1050459 , -0.71337319,  0.13243678, -0.45112553,  0.84723536,\n",
       "        -0.01254426, -0.45229007,  0.87193758, -0.48688393, -0.38505152,\n",
       "         0.30527083,  0.47275722, -0.55253791, -0.28904623,  0.20926555,\n",
       "         0.13984383, -0.21962452,  0.73056698, -0.81034766, -0.78696036,\n",
       "         0.70717967,  0.75650276, -0.83628345,  0.0874876 , -0.2666159 ,\n",
       "        -0.12455267,  0.22390028,  0.09057764, -0.17035833,  0.19092994,\n",
       "        -0.27071063]])"
      ]
     },
     "execution_count": 14,
     "metadata": {},
     "output_type": "execute_result"
    }
   ],
   "source": [
    "sklearn_lr.coef_"
   ]
  },
  {
   "cell_type": "code",
   "execution_count": 15,
   "metadata": {},
   "outputs": [
    {
     "data": {
      "text/plain": [
       "(1,)"
      ]
     },
     "execution_count": 15,
     "metadata": {},
     "output_type": "execute_result"
    }
   ],
   "source": [
    "sklearn_lr.intercept_.shape"
   ]
  },
  {
   "cell_type": "code",
   "execution_count": 16,
   "metadata": {},
   "outputs": [
    {
     "name": "stdout",
     "output_type": "stream",
     "text": [
      "sklearn ml accuracy score = 0.7\n"
     ]
    }
   ],
   "source": [
    "sklearn_prediction = sklearn_lr.predict(X_test)\n",
    "print(f'sklearn ml accuracy score = {accuracy_score(y_test,sklearn_prediction)}')"
   ]
  },
  {
   "cell_type": "code",
   "execution_count": 17,
   "metadata": {},
   "outputs": [
    {
     "data": {
      "text/plain": [
       "(300,)"
      ]
     },
     "execution_count": 17,
     "metadata": {},
     "output_type": "execute_result"
    }
   ],
   "source": [
    "sklearn_prediction.shape"
   ]
  },
  {
   "cell_type": "markdown",
   "metadata": {},
   "source": [
    "# Convert to ONNX format"
   ]
  },
  {
   "cell_type": "code",
   "execution_count": 18,
   "metadata": {},
   "outputs": [],
   "source": [
    "from skl2onnx import convert_sklearn"
   ]
  },
  {
   "cell_type": "code",
   "execution_count": 19,
   "metadata": {},
   "outputs": [],
   "source": [
    "from skl2onnx.common.data_types import DoubleTensorType\n",
    "initial_type = [('double_input', DoubleTensorType([None, 51]))]\n",
    "onx = convert_sklearn(sklearn_lr, initial_types=initial_type)\n",
    "with open(\"cc_default.onnx\", \"wb\") as f:\n",
    "    f.write(onx.SerializeToString())"
   ]
  },
  {
   "cell_type": "markdown",
   "metadata": {},
   "source": [
    "# View the ONNC model"
   ]
  },
  {
   "cell_type": "code",
   "execution_count": 20,
   "metadata": {},
   "outputs": [
    {
     "name": "stdout",
     "output_type": "stream",
     "text": [
      "node {\n",
      "  input: \"double_input\"\n",
      "  output: \"label\"\n",
      "  output: \"probability_tensor\"\n",
      "  name: \"LinearClassifier\"\n",
      "  op_type: \"LinearClassifier\"\n",
      "  attribute {\n",
      "    name: \"classlabels_ints\"\n",
      "    ints: 0\n",
      "    ints: 1\n",
      "    type: INTS\n",
      "  }\n",
      "  attribute {\n",
      "    name: \"coefficients\"\n",
      "    floats: -0.7748340368270874\n",
      "    floats: -0.41529330611228943\n",
      "    floats: -0.006116610951721668\n",
      "    floats: -0.6085692048072815\n",
      "    floats: 1.2961233854293823\n",
      "    floats: 0.08430526405572891\n",
      "    floats: -0.11118007451295853\n",
      "    floats: -0.580898642539978\n",
      "    floats: -0.2937869131565094\n",
      "    floats: 0.8845047950744629\n",
      "    floats: -0.09702741354703903\n",
      "    floats: -0.7301174402236938\n",
      "    floats: -0.161238893866539\n",
      "    floats: -0.08285558968782425\n",
      "    floats: 0.5603021383285522\n",
      "    floats: -0.14239107072353363\n",
      "    floats: 0.27800247073173523\n",
      "    floats: 1.1163368225097656\n",
      "    floats: 0.30734995007514954\n",
      "    floats: -1.4795174598693848\n",
      "    floats: -0.10504589974880219\n",
      "    floats: 0.7133731842041016\n",
      "    floats: -0.13243678212165833\n",
      "    floats: 0.45112553238868713\n",
      "    floats: -0.847235381603241\n",
      "    floats: 0.012544263154268265\n",
      "    floats: 0.45229005813598633\n",
      "    floats: -0.8719375729560852\n",
      "    floats: 0.4868839383125305\n",
      "    floats: 0.38505151867866516\n",
      "    floats: -0.30527082085609436\n",
      "    floats: -0.4727572202682495\n",
      "    floats: 0.5525379180908203\n",
      "    floats: 0.2890462279319763\n",
      "    floats: -0.2092655450105667\n",
      "    floats: -0.13984383642673492\n",
      "    floats: 0.21962451934814453\n",
      "    floats: -0.7305669784545898\n",
      "    floats: 0.8103476762771606\n",
      "    floats: 0.7869603633880615\n",
      "    floats: -0.7071796655654907\n",
      "    floats: -0.7565027475357056\n",
      "    floats: 0.8362834453582764\n",
      "    floats: -0.0874876007437706\n",
      "    floats: 0.2666158974170685\n",
      "    floats: 0.1245526671409607\n",
      "    floats: -0.22390028834342957\n",
      "    floats: -0.0905776396393776\n",
      "    floats: 0.1703583300113678\n",
      "    floats: -0.19092993438243866\n",
      "    floats: 0.27071061730384827\n",
      "    floats: 0.7748340368270874\n",
      "    floats: 0.41529330611228943\n",
      "    floats: 0.006116610951721668\n",
      "    floats: 0.6085692048072815\n",
      "    floats: -1.2961233854293823\n",
      "    floats: -0.08430526405572891\n",
      "    floats: 0.11118007451295853\n",
      "    floats: 0.580898642539978\n",
      "    floats: 0.2937869131565094\n",
      "    floats: -0.8845047950744629\n",
      "    floats: 0.09702741354703903\n",
      "    floats: 0.7301174402236938\n",
      "    floats: 0.161238893866539\n",
      "    floats: 0.08285558968782425\n",
      "    floats: -0.5603021383285522\n",
      "    floats: 0.14239107072353363\n",
      "    floats: -0.27800247073173523\n",
      "    floats: -1.1163368225097656\n",
      "    floats: -0.30734995007514954\n",
      "    floats: 1.4795174598693848\n",
      "    floats: 0.10504589974880219\n",
      "    floats: -0.7133731842041016\n",
      "    floats: 0.13243678212165833\n",
      "    floats: -0.45112553238868713\n",
      "    floats: 0.847235381603241\n",
      "    floats: -0.012544263154268265\n",
      "    floats: -0.45229005813598633\n",
      "    floats: 0.8719375729560852\n",
      "    floats: -0.4868839383125305\n",
      "    floats: -0.38505151867866516\n",
      "    floats: 0.30527082085609436\n",
      "    floats: 0.4727572202682495\n",
      "    floats: -0.5525379180908203\n",
      "    floats: -0.2890462279319763\n",
      "    floats: 0.2092655450105667\n",
      "    floats: 0.13984383642673492\n",
      "    floats: -0.21962451934814453\n",
      "    floats: 0.7305669784545898\n",
      "    floats: -0.8103476762771606\n",
      "    floats: -0.7869603633880615\n",
      "    floats: 0.7071796655654907\n",
      "    floats: 0.7565027475357056\n",
      "    floats: -0.8362834453582764\n",
      "    floats: 0.0874876007437706\n",
      "    floats: -0.2666158974170685\n",
      "    floats: -0.1245526671409607\n",
      "    floats: 0.22390028834342957\n",
      "    floats: 0.0905776396393776\n",
      "    floats: -0.1703583300113678\n",
      "    floats: 0.19092993438243866\n",
      "    floats: -0.27071061730384827\n",
      "    type: FLOATS\n",
      "  }\n",
      "  attribute {\n",
      "    name: \"intercepts\"\n",
      "    floats: 0.8305025100708008\n",
      "    floats: -0.8305025100708008\n",
      "    type: FLOATS\n",
      "  }\n",
      "  attribute {\n",
      "    name: \"multi_class\"\n",
      "    i: 1\n",
      "    type: INT\n",
      "  }\n",
      "  attribute {\n",
      "    name: \"post_transform\"\n",
      "    s: \"LOGISTIC\"\n",
      "    type: STRING\n",
      "  }\n",
      "  domain: \"ai.onnx.ml\"\n",
      "}\n",
      "node {\n",
      "  input: \"probability_tensor\"\n",
      "  output: \"probabilities\"\n",
      "  name: \"Normalizer\"\n",
      "  op_type: \"Normalizer\"\n",
      "  attribute {\n",
      "    name: \"norm\"\n",
      "    s: \"L1\"\n",
      "    type: STRING\n",
      "  }\n",
      "  domain: \"ai.onnx.ml\"\n",
      "}\n",
      "node {\n",
      "  input: \"label\"\n",
      "  output: \"output_label\"\n",
      "  name: \"Cast\"\n",
      "  op_type: \"Cast\"\n",
      "  attribute {\n",
      "    name: \"to\"\n",
      "    i: 7\n",
      "    type: INT\n",
      "  }\n",
      "  domain: \"\"\n",
      "}\n",
      "node {\n",
      "  input: \"probabilities\"\n",
      "  output: \"output_probability\"\n",
      "  name: \"ZipMap\"\n",
      "  op_type: \"ZipMap\"\n",
      "  attribute {\n",
      "    name: \"classlabels_int64s\"\n",
      "    ints: 0\n",
      "    ints: 1\n",
      "    type: INTS\n",
      "  }\n",
      "  domain: \"ai.onnx.ml\"\n",
      "}\n",
      "name: \"85f57dacc7bd49a49192a190a15c985c\"\n",
      "input {\n",
      "  name: \"double_input\"\n",
      "  type {\n",
      "    tensor_type {\n",
      "      elem_type: 11\n",
      "      shape {\n",
      "        dim {\n",
      "        }\n",
      "        dim {\n",
      "          dim_value: 51\n",
      "        }\n",
      "      }\n",
      "    }\n",
      "  }\n",
      "}\n",
      "output {\n",
      "  name: \"output_label\"\n",
      "  type {\n",
      "    tensor_type {\n",
      "      elem_type: 7\n",
      "      shape {\n",
      "        dim {\n",
      "        }\n",
      "      }\n",
      "    }\n",
      "  }\n",
      "}\n",
      "output {\n",
      "  name: \"output_probability\"\n",
      "  type {\n",
      "    sequence_type {\n",
      "      elem_type {\n",
      "        map_type {\n",
      "          key_type: 7\n",
      "          value_type {\n",
      "            tensor_type {\n",
      "              elem_type: 1\n",
      "            }\n",
      "          }\n",
      "        }\n",
      "      }\n",
      "    }\n",
      "  }\n",
      "}\n",
      "\n"
     ]
    }
   ],
   "source": [
    "# Load the ONNX model\n",
    "model = onnx.load(\"cc_default.onnx\")\n",
    "\n",
    "# Check that the IR is well formed\n",
    "onnx.checker.check_model(model)\n",
    "\n",
    "# Print a human readable representation of the graph\n",
    "print(model.graph)"
   ]
  },
  {
   "cell_type": "markdown",
   "metadata": {},
   "source": [
    "#### View the model in https://lutzroeder.github.io/netron/"
   ]
  },
  {
   "cell_type": "markdown",
   "metadata": {},
   "source": [
    "# Use ONNX runtime for scoring"
   ]
  },
  {
   "cell_type": "code",
   "execution_count": 21,
   "metadata": {},
   "outputs": [],
   "source": [
    "# Compute the prediction with ONNX Runtime\n",
    "sess = rt.InferenceSession(\"cc_default.onnx\")\n",
    "input_name = sess.get_inputs()[0].name\n",
    "label_name = sess.get_outputs()[0].name\n",
    "pred_onx = sess.run([label_name], {input_name: X_test})[0]"
   ]
  },
  {
   "cell_type": "code",
   "execution_count": 22,
   "metadata": {},
   "outputs": [
    {
     "data": {
      "text/plain": [
       "(300,)"
      ]
     },
     "execution_count": 22,
     "metadata": {},
     "output_type": "execute_result"
    }
   ],
   "source": [
    "pred_onx.shape"
   ]
  }
 ],
 "metadata": {
  "kernelspec": {
   "display_name": "Python 3",
   "language": "python",
   "name": "python3"
  },
  "language_info": {
   "codemirror_mode": {
    "name": "ipython",
    "version": 3
   },
   "file_extension": ".py",
   "mimetype": "text/x-python",
   "name": "python",
   "nbconvert_exporter": "python",
   "pygments_lexer": "ipython3",
   "version": "3.6.10"
  }
 },
 "nbformat": 4,
 "nbformat_minor": 4
}
